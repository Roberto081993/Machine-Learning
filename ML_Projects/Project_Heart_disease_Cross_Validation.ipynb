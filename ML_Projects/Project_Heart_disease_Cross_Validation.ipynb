{
 "cells": [
  {
   "cell_type": "code",
   "execution_count": 32,
   "id": "371772bb-e716-4d3e-b12b-7921f1a19426",
   "metadata": {},
   "outputs": [],
   "source": [
    "import numpy as np\n",
    "import pandas as pd\n",
    "from sklearn.model_selection import train_test_split\n",
    "from sklearn.model_selection import cross_val_score\n",
    "from sklearn.metrics import accuracy_score\n",
    "from sklearn.metrics import precision_score\n",
    "from sklearn.metrics import recall_score\n",
    "from sklearn.metrics import f1_score"
   ]
  },
  {
   "cell_type": "markdown",
   "id": "40a603e3-c738-430d-bfd7-85aaea044341",
   "metadata": {},
   "source": [
    "### Importing the models"
   ]
  },
  {
   "cell_type": "code",
   "execution_count": 2,
   "id": "098067a4-52dc-4e21-9147-623f7078fb2c",
   "metadata": {},
   "outputs": [],
   "source": [
    "from sklearn.linear_model import LogisticRegression\n",
    "from sklearn.svm import SVC\n",
    "from sklearn.neighbors import KNeighborsClassifier\n",
    "from sklearn.ensemble import RandomForestClassifier"
   ]
  },
  {
   "cell_type": "markdown",
   "id": "cdee8d73-8aa6-4940-8450-ab5e40250ff6",
   "metadata": {},
   "source": [
    "### Data Collection and Processing"
   ]
  },
  {
   "cell_type": "code",
   "execution_count": 3,
   "id": "aa187096-9828-45e9-bbfc-036862c960a4",
   "metadata": {},
   "outputs": [],
   "source": [
    "heart_data = pd.read_csv('Fichiers_csv/heart.csv')"
   ]
  },
  {
   "cell_type": "code",
   "execution_count": 4,
   "id": "58c7bef0-0943-4b05-9f8c-e072ab7fb4ac",
   "metadata": {},
   "outputs": [
    {
     "data": {
      "text/html": [
       "<div>\n",
       "<style scoped>\n",
       "    .dataframe tbody tr th:only-of-type {\n",
       "        vertical-align: middle;\n",
       "    }\n",
       "\n",
       "    .dataframe tbody tr th {\n",
       "        vertical-align: top;\n",
       "    }\n",
       "\n",
       "    .dataframe thead th {\n",
       "        text-align: right;\n",
       "    }\n",
       "</style>\n",
       "<table border=\"1\" class=\"dataframe\">\n",
       "  <thead>\n",
       "    <tr style=\"text-align: right;\">\n",
       "      <th></th>\n",
       "      <th>age</th>\n",
       "      <th>sex</th>\n",
       "      <th>cp</th>\n",
       "      <th>trestbps</th>\n",
       "      <th>chol</th>\n",
       "      <th>fbs</th>\n",
       "      <th>restecg</th>\n",
       "      <th>thalach</th>\n",
       "      <th>exang</th>\n",
       "      <th>oldpeak</th>\n",
       "      <th>slope</th>\n",
       "      <th>ca</th>\n",
       "      <th>thal</th>\n",
       "      <th>target</th>\n",
       "    </tr>\n",
       "  </thead>\n",
       "  <tbody>\n",
       "    <tr>\n",
       "      <th>0</th>\n",
       "      <td>52</td>\n",
       "      <td>1</td>\n",
       "      <td>0</td>\n",
       "      <td>125</td>\n",
       "      <td>212</td>\n",
       "      <td>0</td>\n",
       "      <td>1</td>\n",
       "      <td>168</td>\n",
       "      <td>0</td>\n",
       "      <td>1.0</td>\n",
       "      <td>2</td>\n",
       "      <td>2</td>\n",
       "      <td>3</td>\n",
       "      <td>0</td>\n",
       "    </tr>\n",
       "    <tr>\n",
       "      <th>1</th>\n",
       "      <td>53</td>\n",
       "      <td>1</td>\n",
       "      <td>0</td>\n",
       "      <td>140</td>\n",
       "      <td>203</td>\n",
       "      <td>1</td>\n",
       "      <td>0</td>\n",
       "      <td>155</td>\n",
       "      <td>1</td>\n",
       "      <td>3.1</td>\n",
       "      <td>0</td>\n",
       "      <td>0</td>\n",
       "      <td>3</td>\n",
       "      <td>0</td>\n",
       "    </tr>\n",
       "    <tr>\n",
       "      <th>2</th>\n",
       "      <td>70</td>\n",
       "      <td>1</td>\n",
       "      <td>0</td>\n",
       "      <td>145</td>\n",
       "      <td>174</td>\n",
       "      <td>0</td>\n",
       "      <td>1</td>\n",
       "      <td>125</td>\n",
       "      <td>1</td>\n",
       "      <td>2.6</td>\n",
       "      <td>0</td>\n",
       "      <td>0</td>\n",
       "      <td>3</td>\n",
       "      <td>0</td>\n",
       "    </tr>\n",
       "    <tr>\n",
       "      <th>3</th>\n",
       "      <td>61</td>\n",
       "      <td>1</td>\n",
       "      <td>0</td>\n",
       "      <td>148</td>\n",
       "      <td>203</td>\n",
       "      <td>0</td>\n",
       "      <td>1</td>\n",
       "      <td>161</td>\n",
       "      <td>0</td>\n",
       "      <td>0.0</td>\n",
       "      <td>2</td>\n",
       "      <td>1</td>\n",
       "      <td>3</td>\n",
       "      <td>0</td>\n",
       "    </tr>\n",
       "    <tr>\n",
       "      <th>4</th>\n",
       "      <td>62</td>\n",
       "      <td>0</td>\n",
       "      <td>0</td>\n",
       "      <td>138</td>\n",
       "      <td>294</td>\n",
       "      <td>1</td>\n",
       "      <td>1</td>\n",
       "      <td>106</td>\n",
       "      <td>0</td>\n",
       "      <td>1.9</td>\n",
       "      <td>1</td>\n",
       "      <td>3</td>\n",
       "      <td>2</td>\n",
       "      <td>0</td>\n",
       "    </tr>\n",
       "  </tbody>\n",
       "</table>\n",
       "</div>"
      ],
      "text/plain": [
       "   age  sex  cp  trestbps  chol  fbs  restecg  thalach  exang  oldpeak  slope  \\\n",
       "0   52    1   0       125   212    0        1      168      0      1.0      2   \n",
       "1   53    1   0       140   203    1        0      155      1      3.1      0   \n",
       "2   70    1   0       145   174    0        1      125      1      2.6      0   \n",
       "3   61    1   0       148   203    0        1      161      0      0.0      2   \n",
       "4   62    0   0       138   294    1        1      106      0      1.9      1   \n",
       "\n",
       "   ca  thal  target  \n",
       "0   2     3       0  \n",
       "1   0     3       0  \n",
       "2   0     3       0  \n",
       "3   1     3       0  \n",
       "4   3     2       0  "
      ]
     },
     "execution_count": 4,
     "metadata": {},
     "output_type": "execute_result"
    }
   ],
   "source": [
    "heart_data.head()"
   ]
  },
  {
   "cell_type": "code",
   "execution_count": 5,
   "id": "6796bf37-2989-4174-9347-59fc6b236693",
   "metadata": {},
   "outputs": [
    {
     "data": {
      "text/plain": [
       "(1025, 14)"
      ]
     },
     "execution_count": 5,
     "metadata": {},
     "output_type": "execute_result"
    }
   ],
   "source": [
    "heart_data.shape"
   ]
  },
  {
   "cell_type": "code",
   "execution_count": 6,
   "id": "266d2e74-4f57-4e60-9f54-0fe67ba92447",
   "metadata": {},
   "outputs": [
    {
     "data": {
      "text/plain": [
       "age         0\n",
       "sex         0\n",
       "cp          0\n",
       "trestbps    0\n",
       "chol        0\n",
       "fbs         0\n",
       "restecg     0\n",
       "thalach     0\n",
       "exang       0\n",
       "oldpeak     0\n",
       "slope       0\n",
       "ca          0\n",
       "thal        0\n",
       "target      0\n",
       "dtype: int64"
      ]
     },
     "execution_count": 6,
     "metadata": {},
     "output_type": "execute_result"
    }
   ],
   "source": [
    "heart_data.isnull().sum()"
   ]
  },
  {
   "cell_type": "code",
   "execution_count": 7,
   "id": "f3baa394-217f-4541-bd5c-ba7e4e3035bb",
   "metadata": {},
   "outputs": [
    {
     "data": {
      "text/plain": [
       "target\n",
       "1    526\n",
       "0    499\n",
       "Name: count, dtype: int64"
      ]
     },
     "execution_count": 7,
     "metadata": {},
     "output_type": "execute_result"
    }
   ],
   "source": [
    "heart_data['target'].value_counts()"
   ]
  },
  {
   "cell_type": "code",
   "execution_count": 8,
   "id": "0738db1a-8a2b-4c77-8c6e-2683858b6847",
   "metadata": {},
   "outputs": [],
   "source": [
    "X = heart_data.drop(columns='target', axis=1)\n",
    "Y = heart_data['target']"
   ]
  },
  {
   "cell_type": "code",
   "execution_count": 9,
   "id": "6c3a5add-15a7-4686-84dd-0fa98e004d1a",
   "metadata": {},
   "outputs": [
    {
     "name": "stdout",
     "output_type": "stream",
     "text": [
      "      age  sex  cp  trestbps  chol  fbs  restecg  thalach  exang  oldpeak  \\\n",
      "0      52    1   0       125   212    0        1      168      0      1.0   \n",
      "1      53    1   0       140   203    1        0      155      1      3.1   \n",
      "2      70    1   0       145   174    0        1      125      1      2.6   \n",
      "3      61    1   0       148   203    0        1      161      0      0.0   \n",
      "4      62    0   0       138   294    1        1      106      0      1.9   \n",
      "...   ...  ...  ..       ...   ...  ...      ...      ...    ...      ...   \n",
      "1020   59    1   1       140   221    0        1      164      1      0.0   \n",
      "1021   60    1   0       125   258    0        0      141      1      2.8   \n",
      "1022   47    1   0       110   275    0        0      118      1      1.0   \n",
      "1023   50    0   0       110   254    0        0      159      0      0.0   \n",
      "1024   54    1   0       120   188    0        1      113      0      1.4   \n",
      "\n",
      "      slope  ca  thal  \n",
      "0         2   2     3  \n",
      "1         0   0     3  \n",
      "2         0   0     3  \n",
      "3         2   1     3  \n",
      "4         1   3     2  \n",
      "...     ...  ..   ...  \n",
      "1020      2   0     2  \n",
      "1021      1   1     3  \n",
      "1022      1   1     2  \n",
      "1023      2   0     2  \n",
      "1024      1   1     3  \n",
      "\n",
      "[1025 rows x 13 columns]\n"
     ]
    }
   ],
   "source": [
    "print(X)"
   ]
  },
  {
   "cell_type": "code",
   "execution_count": 10,
   "id": "c992f7e4-bc7c-4710-87c4-8f093bfe4032",
   "metadata": {},
   "outputs": [
    {
     "name": "stdout",
     "output_type": "stream",
     "text": [
      "0       0\n",
      "1       0\n",
      "2       0\n",
      "3       0\n",
      "4       0\n",
      "       ..\n",
      "1020    1\n",
      "1021    0\n",
      "1022    0\n",
      "1023    1\n",
      "1024    0\n",
      "Name: target, Length: 1025, dtype: int64\n"
     ]
    }
   ],
   "source": [
    "print(Y)"
   ]
  },
  {
   "cell_type": "code",
   "execution_count": 11,
   "id": "68379176-967d-4964-9add-7bebb823d165",
   "metadata": {},
   "outputs": [],
   "source": [
    "X_train, X_test, Y_train, Y_test = train_test_split(X, Y, test_size=0.2, stratify=Y, random_state=3)"
   ]
  },
  {
   "cell_type": "code",
   "execution_count": 12,
   "id": "0ea371ea-60e0-4605-b8df-a1a1669662f9",
   "metadata": {},
   "outputs": [
    {
     "name": "stdout",
     "output_type": "stream",
     "text": [
      "(1025, 13) (820, 13) (205, 13)\n"
     ]
    }
   ],
   "source": [
    "print(X.shape, X_train.shape, X_test.shape)"
   ]
  },
  {
   "cell_type": "markdown",
   "id": "01e9d101-9e4b-42b3-be28-2145adbe7dee",
   "metadata": {},
   "source": [
    "### Comparing the performance of the models"
   ]
  },
  {
   "cell_type": "code",
   "execution_count": 13,
   "id": "ab18dfb5-5fc5-4759-8e48-153bd2ff2b0a",
   "metadata": {},
   "outputs": [],
   "source": [
    "# list of models\n",
    "models = [LogisticRegression(max_iter=1000), SVC(kernel='linear'), KNeighborsClassifier(), RandomForestClassifier()]"
   ]
  },
  {
   "cell_type": "code",
   "execution_count": 14,
   "id": "f7221963-5228-4c47-86b2-9b7ad8f7c423",
   "metadata": {},
   "outputs": [],
   "source": [
    "def compare_models_train_test():\n",
    "\n",
    "    for model in models:\n",
    "        model.fit(X_train, Y_train)\n",
    "        test_data_precision = model.predict(X_test)\n",
    "        accuracy = accuracy_score(Y_test, test_data_precision)\n",
    "        print('Accuracy score of the ',model, ' = ', accuracy)"
   ]
  },
  {
   "cell_type": "code",
   "execution_count": 15,
   "id": "7f1c3edf-a47d-4d42-8f7b-dd57338befd1",
   "metadata": {},
   "outputs": [
    {
     "name": "stdout",
     "output_type": "stream",
     "text": [
      "Accuracy score of the  LogisticRegression(max_iter=1000)  =  0.8390243902439024\n",
      "Accuracy score of the  SVC(kernel='linear')  =  0.824390243902439\n",
      "Accuracy score of the  KNeighborsClassifier()  =  0.7560975609756098\n",
      "Accuracy score of the  RandomForestClassifier()  =  1.0\n"
     ]
    }
   ],
   "source": [
    "compare_models_train_test()"
   ]
  },
  {
   "cell_type": "markdown",
   "id": "58d64dc1-8404-47e1-8aeb-2449d6ae85bf",
   "metadata": {},
   "source": [
    "### Cross Validation"
   ]
  },
  {
   "cell_type": "markdown",
   "id": "501ea159-9299-430c-918d-ed46230dac09",
   "metadata": {},
   "source": [
    "#### Logistic Regression"
   ]
  },
  {
   "cell_type": "code",
   "execution_count": 16,
   "id": "a1422f04-fbe9-4f55-9f86-81f36eab187b",
   "metadata": {},
   "outputs": [
    {
     "name": "stdout",
     "output_type": "stream",
     "text": [
      "[0.88292683 0.85853659 0.87804878 0.82439024 0.80487805]\n",
      "84.98\n"
     ]
    }
   ],
   "source": [
    "cv_score_lr = cross_val_score(LogisticRegression(max_iter=1000), X, Y, cv=5)\n",
    "print(cv_score_lr)\n",
    "mean_accuracy_lr = round((sum(cv_score_lr)/len(cv_score_lr))*100, 2)\n",
    "print(mean_accuracy_lr)"
   ]
  },
  {
   "cell_type": "markdown",
   "id": "68e85161-a805-40af-9cf0-501044639239",
   "metadata": {},
   "source": [
    "#### Support Vector Classifier"
   ]
  },
  {
   "cell_type": "code",
   "execution_count": 17,
   "id": "0c0f9002-1cf3-4f51-8b69-8872b4fb7ca9",
   "metadata": {},
   "outputs": [
    {
     "name": "stdout",
     "output_type": "stream",
     "text": [
      "[0.88292683 0.86829268 0.84390244 0.81463415 0.80487805]\n",
      "84.29\n"
     ]
    }
   ],
   "source": [
    "cv_score_svc = cross_val_score(SVC(kernel='linear'), X, Y, cv=5)\n",
    "print(cv_score_svc)\n",
    "mean_accuracy_svc = round((sum(cv_score_svc)/len(cv_score_svc))*100, 2)\n",
    "print(mean_accuracy_svc)"
   ]
  },
  {
   "cell_type": "code",
   "execution_count": 18,
   "id": "4aa64a55-fe73-4568-a6a9-f8c610b6988a",
   "metadata": {},
   "outputs": [],
   "source": [
    "def compare_models_cross_validation():\n",
    "    for model in models:\n",
    "        cv_score = cross_val_score(model, X, Y, cv=5)\n",
    "        mean_accuracy = round((sum(cv_score)/len(cv_score))*100,2)\n",
    "        print('Cross Validation accuracy for the ', model, ' = ', cv_score)\n",
    "        print('Accuracy % of the ', model, mean_accuracy)\n",
    "        print('-----------------------------------------------------------')"
   ]
  },
  {
   "cell_type": "code",
   "execution_count": 19,
   "id": "25ca3971-c01e-4484-9f86-843b939eaf3b",
   "metadata": {},
   "outputs": [
    {
     "name": "stdout",
     "output_type": "stream",
     "text": [
      "Cross Validation accuracy for the  LogisticRegression(max_iter=1000)  =  [0.88292683 0.85853659 0.87804878 0.82439024 0.80487805]\n",
      "Accuracy % of the  LogisticRegression(max_iter=1000) 84.98\n",
      "-----------------------------------------------------------\n",
      "Cross Validation accuracy for the  SVC(kernel='linear')  =  [0.88292683 0.86829268 0.84390244 0.81463415 0.80487805]\n",
      "Accuracy % of the  SVC(kernel='linear') 84.29\n",
      "-----------------------------------------------------------\n",
      "Cross Validation accuracy for the  KNeighborsClassifier()  =  [0.76585366 0.74634146 0.76097561 0.71219512 0.75121951]\n",
      "Accuracy % of the  KNeighborsClassifier() 74.73\n",
      "-----------------------------------------------------------\n",
      "Cross Validation accuracy for the  RandomForestClassifier()  =  [1.         1.         1.         1.         0.98536585]\n",
      "Accuracy % of the  RandomForestClassifier() 99.71\n",
      "-----------------------------------------------------------\n"
     ]
    }
   ],
   "source": [
    "compare_models_cross_validation()"
   ]
  },
  {
   "cell_type": "markdown",
   "id": "90a6a266-67da-426d-9c0e-febc9829a9ad",
   "metadata": {},
   "source": [
    "### Precision"
   ]
  },
  {
   "cell_type": "code",
   "execution_count": 25,
   "id": "056b5fb6-2945-4d16-8e92-69dd2937f0f3",
   "metadata": {},
   "outputs": [],
   "source": [
    "def compare_precision_models():\n",
    "\n",
    "    for model in models:\n",
    "        model.fit(X_train, Y_train)\n",
    "        X_train_prediction = model.predict(X_train)\n",
    "        X_test_prediction  = model.predict(X_test)\n",
    "        precision_train    = precision_score(Y_train, X_train_prediction)\n",
    "        precision_test     = precision_score(Y_test, X_test_prediction)\n",
    "        print('Training data Precision of ',model, ' = ', precision_train)\n",
    "        print('Test data Precision of ',model, ' = ', precision_test)\n",
    "        print('-----------------------------------------------------------')"
   ]
  },
  {
   "cell_type": "code",
   "execution_count": 26,
   "id": "bb8b636c-9a10-4b9f-9f5e-116a15b7eb6a",
   "metadata": {},
   "outputs": [
    {
     "name": "stdout",
     "output_type": "stream",
     "text": [
      "Training data Precision of  LogisticRegression(max_iter=1000)  =  0.8322440087145969\n",
      "Test data Precision of  LogisticRegression(max_iter=1000)  =  0.8272727272727273\n",
      "-----------------------------------------------------------\n",
      "Training data Precision of  SVC(kernel='linear')  =  0.8183760683760684\n",
      "Test data Precision of  SVC(kernel='linear')  =  0.8108108108108109\n",
      "-----------------------------------------------------------\n",
      "Training data Precision of  KNeighborsClassifier()  =  0.9376558603491272\n",
      "Test data Precision of  KNeighborsClassifier()  =  0.8021978021978022\n",
      "-----------------------------------------------------------\n",
      "Training data Precision of  RandomForestClassifier()  =  1.0\n",
      "Test data Precision of  RandomForestClassifier()  =  1.0\n",
      "-----------------------------------------------------------\n"
     ]
    }
   ],
   "source": [
    "compare_precision_models()"
   ]
  },
  {
   "cell_type": "markdown",
   "id": "2313f094-8a54-43e4-be98-648e950df1e6",
   "metadata": {},
   "source": [
    "### Recall"
   ]
  },
  {
   "cell_type": "code",
   "execution_count": 30,
   "id": "7c45d9f6-b510-429c-87ea-183218ad064b",
   "metadata": {},
   "outputs": [],
   "source": [
    "def compare_recall_models():\n",
    "\n",
    "    for model in models:\n",
    "        model.fit(X_train, Y_train)\n",
    "        X_train_prediction = model.predict(X_train)\n",
    "        X_test_prediction  = model.predict(X_test)\n",
    "        recall_train       = recall_score(Y_train, X_train_prediction)\n",
    "        recall_test        = recall_score(Y_test, X_test_prediction)\n",
    "        print('Training data Recall of ',model, ' = ', recall_train)\n",
    "        print('Test data Recall of ',model, ' = ', recall_test)\n",
    "        print('-----------------------------------------------------------')"
   ]
  },
  {
   "cell_type": "code",
   "execution_count": 31,
   "id": "ab3c511e-3203-45d4-a445-983b75f907ff",
   "metadata": {},
   "outputs": [
    {
     "name": "stdout",
     "output_type": "stream",
     "text": [
      "Training data Recall of  LogisticRegression(max_iter=1000)  =  0.9073634204275535\n",
      "Test data Recall of  LogisticRegression(max_iter=1000)  =  0.8666666666666667\n",
      "-----------------------------------------------------------\n",
      "Training data Recall of  SVC(kernel='linear')  =  0.9097387173396675\n",
      "Test data Recall of  SVC(kernel='linear')  =  0.8571428571428571\n",
      "-----------------------------------------------------------\n",
      "Training data Recall of  KNeighborsClassifier()  =  0.8931116389548693\n",
      "Test data Recall of  KNeighborsClassifier()  =  0.6952380952380952\n",
      "-----------------------------------------------------------\n",
      "Training data Recall of  RandomForestClassifier()  =  1.0\n",
      "Test data Recall of  RandomForestClassifier()  =  1.0\n",
      "-----------------------------------------------------------\n"
     ]
    }
   ],
   "source": [
    "compare_recall_models()"
   ]
  },
  {
   "cell_type": "code",
   "execution_count": 35,
   "id": "3fabb6e2-067b-48c7-9bde-678dd6e1ff5f",
   "metadata": {},
   "outputs": [],
   "source": [
    "def compare_f1_score_models():\n",
    "\n",
    "    for model in models:\n",
    "        model.fit(X_train, Y_train)\n",
    "        X_train_prediction = model.predict(X_train)\n",
    "        X_test_prediction  = model.predict(X_test)\n",
    "        f1_score_train     = f1_score(Y_train, X_train_prediction)\n",
    "        f1_score_test      = f1_score(Y_test, X_test_prediction)\n",
    "        print('Training data F1 score of ',model, ' = ', f1_score_train)\n",
    "        print('Test data F1 score of ',model, ' = ', f1_score_test)\n",
    "        print('-----------------------------------------------------------')"
   ]
  },
  {
   "cell_type": "code",
   "execution_count": 36,
   "id": "13fddafc-1ac7-458b-afa0-91ae7142c189",
   "metadata": {},
   "outputs": [
    {
     "name": "stdout",
     "output_type": "stream",
     "text": [
      "Training data F1 score of  LogisticRegression(max_iter=1000)  =  0.8681818181818182\n",
      "Test data F1 score of  LogisticRegression(max_iter=1000)  =  0.8465116279069769\n",
      "-----------------------------------------------------------\n",
      "Training data F1 score of  SVC(kernel='linear')  =  0.8616422947131609\n",
      "Test data F1 score of  SVC(kernel='linear')  =  0.8333333333333334\n",
      "-----------------------------------------------------------\n",
      "Training data F1 score of  KNeighborsClassifier()  =  0.9148418491484184\n",
      "Test data F1 score of  KNeighborsClassifier()  =  0.7448979591836735\n",
      "-----------------------------------------------------------\n",
      "Training data F1 score of  RandomForestClassifier()  =  1.0\n",
      "Test data F1 score of  RandomForestClassifier()  =  1.0\n",
      "-----------------------------------------------------------\n"
     ]
    }
   ],
   "source": [
    "compare_f1_score_models()"
   ]
  },
  {
   "cell_type": "markdown",
   "id": "2585e139-dc05-4836-9046-4b278ad14ace",
   "metadata": {},
   "source": [
    "### Precision, Recall & F1 Score - functions"
   ]
  },
  {
   "cell_type": "code",
   "execution_count": 38,
   "id": "37f55d36-e41b-47df-9ff2-0a0626722552",
   "metadata": {},
   "outputs": [],
   "source": [
    "def precision_recall_f1_score(true_labels, pred_labels):\n",
    "\n",
    "    precision_value = precision_score(true_labels, pred_labels)\n",
    "    recall_value    = recall_score(true_labels, pred_labels)\n",
    "    f1_score_value  = f1_score(true_labels, pred_labels)\n",
    "\n",
    "    print('Precision = ', precision_value)\n",
    "    print('Recall = ', recall_value)\n",
    "    print('Precision = ', f1_score_value)"
   ]
  },
  {
   "cell_type": "code",
   "execution_count": 41,
   "id": "5bf86bc4-394d-44a4-808f-f31cc870f9e3",
   "metadata": {},
   "outputs": [
    {
     "name": "stdout",
     "output_type": "stream",
     "text": [
      "LogisticRegression(max_iter=1000)\n",
      "Precision =  0.8272727272727273\n",
      "Recall =  0.8666666666666667\n",
      "Precision =  0.8465116279069769\n",
      "-----------------------------------------------------------\n",
      "SVC(kernel='linear')\n",
      "Precision =  0.8108108108108109\n",
      "Recall =  0.8571428571428571\n",
      "Precision =  0.8333333333333334\n",
      "-----------------------------------------------------------\n",
      "KNeighborsClassifier()\n",
      "Precision =  0.8021978021978022\n",
      "Recall =  0.6952380952380952\n",
      "Precision =  0.7448979591836735\n",
      "-----------------------------------------------------------\n",
      "RandomForestClassifier()\n",
      "Precision =  1.0\n",
      "Recall =  1.0\n",
      "Precision =  1.0\n",
      "-----------------------------------------------------------\n"
     ]
    }
   ],
   "source": [
    "for model in models:\n",
    "    model.fit(X_train, Y_train)\n",
    "    X_train_prediction = model.predict(X_train)\n",
    "    X_test_prediction  = model.predict(X_test)\n",
    "    print(model)\n",
    "    precision_recall_f1_score(Y_test, X_test_prediction)\n",
    "    print('-----------------------------------------------------------')"
   ]
  },
  {
   "cell_type": "code",
   "execution_count": null,
   "id": "f7e4ff3e-59af-4edd-83f3-20ea024e898b",
   "metadata": {},
   "outputs": [],
   "source": []
  }
 ],
 "metadata": {
  "kernelspec": {
   "display_name": "Python 3 (ipykernel)",
   "language": "python",
   "name": "python3"
  },
  "language_info": {
   "codemirror_mode": {
    "name": "ipython",
    "version": 3
   },
   "file_extension": ".py",
   "mimetype": "text/x-python",
   "name": "python",
   "nbconvert_exporter": "python",
   "pygments_lexer": "ipython3",
   "version": "3.11.9"
  }
 },
 "nbformat": 4,
 "nbformat_minor": 5
}
