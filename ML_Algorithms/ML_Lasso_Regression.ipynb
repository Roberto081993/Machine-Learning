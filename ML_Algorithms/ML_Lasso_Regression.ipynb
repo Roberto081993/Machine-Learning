{
 "cells": [
  {
   "cell_type": "code",
   "execution_count": 1,
   "id": "b531b6b0-5479-4927-9424-eb0a9ca7cb90",
   "metadata": {},
   "outputs": [],
   "source": [
    "import numpy as np"
   ]
  },
  {
   "cell_type": "code",
   "execution_count": 2,
   "id": "676fd20e-9378-4ca2-9642-032a84f1bde1",
   "metadata": {},
   "outputs": [],
   "source": [
    "class Lasso_Regression():\n",
    "\n",
    "    def __init__(self, lr, n_iters, lambda_parameter):\n",
    " \n",
    "        self.lr               = lr\n",
    "        self.n_iters          = n_iters\n",
    "        self.lambda_parameter = lambda_parameter\n",
    "\n",
    "    \n",
    "    def fit(self, X, Y):\n",
    "\n",
    "        self.m, self.n = X.shape\n",
    "        \n",
    "        self.w = np.zeros(self.n)\n",
    "        self.b = 0\n",
    "        self.X = X\n",
    "        self.Y = Y\n",
    "\n",
    "        for i in range(n_iters):\n",
    "            self.update_weight()\n",
    "\n",
    "    \n",
    "    def update_weight(self):\n",
    "\n",
    "        Y_prediction = self.predict(self.X)\n",
    "\n",
    "        dw = np.zeros((self.n))\n",
    "\n",
    "        for i in range(self.n):\n",
    "\n",
    "            if self.w[i] > 0:\n",
    "                dw[i] = (-(2 * (self.X[:,i]).dot(self.Y - Y_prediction)) + self.lambda_parameter) / self.m\n",
    "\n",
    "            else:\n",
    "                dw[i] = (-(2 * (self.X[:,i]).dot(self.Y - Y_prediction)) - self.lambda_parameter) / self.m\n",
    "\n",
    "        db = -2 * np.sum(self.Y - Y_prediction) / self.m\n",
    "\n",
    "        self.w = self.w - self.lr * dw\n",
    "        self.b = self.b - self.lr * db\n",
    "                \n",
    "    def predict(self, X):\n",
    "        return X.dot(self.w) + self.b\n",
    "\n",
    "\n",
    "        "
   ]
  },
  {
   "cell_type": "code",
   "execution_count": null,
   "id": "135fb4e2-96f5-4747-b840-fdc57717dfc1",
   "metadata": {},
   "outputs": [],
   "source": []
  }
 ],
 "metadata": {
  "kernelspec": {
   "display_name": "Python 3 (ipykernel)",
   "language": "python",
   "name": "python3"
  },
  "language_info": {
   "codemirror_mode": {
    "name": "ipython",
    "version": 3
   },
   "file_extension": ".py",
   "mimetype": "text/x-python",
   "name": "python",
   "nbconvert_exporter": "python",
   "pygments_lexer": "ipython3",
   "version": "3.11.7"
  }
 },
 "nbformat": 4,
 "nbformat_minor": 5
}
